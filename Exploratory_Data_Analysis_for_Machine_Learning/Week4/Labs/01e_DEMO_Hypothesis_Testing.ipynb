{
 "cells": [
  {
   "cell_type": "markdown",
   "metadata": {},
   "source": [
    "# Machine Learning Foundation\n",
    "\n",
    "## Section 1, Part e: Hypothesis Testing "
   ]
  },
  {
   "cell_type": "markdown",
   "metadata": {},
   "source": [
    "## Objectives: \n",
    "\n",
    "After this discussion, you should be able to: \n",
    "* Know the difference between a null and alternative hypothesis\n",
    "* Write your own set of hypotheses for testing"
   ]
  },
  {
   "cell_type": "code",
   "execution_count": null,
   "metadata": {},
   "outputs": [],
   "source": [
    "# see https://ipython.readthedocs.io/en/stable/interactive/magics.html\n",
    "# %pylab inline\n",
    "\n",
    "%config InlineBackend.figure_formats = ['svg']\n",
    "\n",
    "import matplotlib.pyplot as plt\n",
    "import numpy as np\n",
    "from scipy import stats \n",
    "import math\n",
    "import seaborn as sns\n",
    "\n",
    "sns.set_style(\"whitegrid\")"
   ]
  },
  {
   "cell_type": "markdown",
   "metadata": {},
   "source": [
    "## Null Hypothesis\n",
    "\n",
    "I claim that I can use mystical abilities to predict the outcome of coin flips.\n",
    "\n",
    "You don't think I can.\n",
    "\n",
    "How can we test it?\n",
    "\n",
    "We do an experiment in which I call 100 coin flips. I get 57 right.\n",
    "\n",
    "Am I special or not?\n"
   ]
  },
  {
   "cell_type": "markdown",
   "metadata": {},
   "source": [
    "--- \n",
    "\n",
    "### Determining the Null and Alternative Hypothesis\n",
    "\n",
    "Write the null and alternative hypotheses!\n",
    "\n",
    "Null: \n",
    "\n",
    "Alternative:\n",
    "\n",
    "---"
   ]
  },
  {
   "cell_type": "markdown",
   "metadata": {},
   "source": [
    "**Null:** I'm not special; my true rate of flip prediction is 0.5. \n",
    "\n",
    "But even under this hypothesis, I could get 57 out of 100 right. So did I get lucky (by random chance) or am I mystical?\n",
    "\n",
    "**Alternative:** My true rate of flip prediction is greater than 0.5.\n",
    "\n",
    "The thing we're measuring from the experiment, or **test statistic**, is the number of correct flip predictions out of 100."
   ]
  },
  {
   "cell_type": "markdown",
   "metadata": {},
   "source": [
    "---\n",
    "\n",
    "If the null hypothesis is correct, the test statistic is binomial distributed with parameters `n = 100` and `p = 0.5`. That is, if we repeated the whole experiment many times, we would see such a distribution for all the results.\n",
    "\n",
    "So if the null hypothesis is correct, how likely is it that I got 57 or more coin flips correct?\n",
    "\n",
    "Before we check (really, before we do the experiment) we decide what would convince us that I have ESP. The choice of a cutoff at 5% probability is common. That is, if we would only see data as extreme as we've seen less than 5% of the time, we'll say that seems too unlikely and we will conclude that we don't think the null hypothesis is true.\n",
    "\n",
    "---\n",
    "\n",
    "We have two outcomes, one with probability (p) and the other with probability (1-p) of happening (remember the axioms of probability?), so we know the [binomial](https://en.wikipedia.org/wiki/Binomial_distribution) [distribution](http://mathworld.wolfram.com/BinomialDistribution.html) is the [right tool for this analysis](https://homepage.divms.uiowa.edu/~mbognar/applets/bin.html).\n",
    "\n",
    "In the case of the binomial distribution, which is discrete and not too complicated mathematically, we could just work out the probability. But in general we'll rely on some existing functionality. (In a traditional statistics class, this is the part where we'd turn to a table in the back of the book.)"
   ]
  },
  {
   "cell_type": "code",
   "execution_count": 10,
   "metadata": {},
   "outputs": [
    {
     "name": "stdout",
     "output_type": "stream",
     "text": [
      "6.7%\n"
     ]
    }
   ],
   "source": [
    "from scipy.stats import binom\n",
    "\n",
    "prob = 1 - binom.cdf(57, 100, 0.5)\n",
    "print(str(round(prob*100, 1)) + \"%\")"
   ]
  },
  {
   "cell_type": "markdown",
   "metadata": {},
   "source": [
    "The probability of getting 57 or more correct is about 9.7%. This is more than 5%, so we can't reject the null and conclude that I (probably) don't have mystical powers.\n",
    "\n",
    "---\n",
    "\n",
    "Conversely, we can figure out what the 95% cutoff is beforehand.\n",
    "\n",
    "--- \n",
    "\n",
    "### Exercise\n",
    "\n",
    "Find the number of coin flips a person would need to guess correctly for us to believe they're clairvoyant.\n",
    "\n",
    "---"
   ]
  },
  {
   "cell_type": "code",
   "execution_count": 11,
   "metadata": {},
   "outputs": [
    {
     "name": "stdout",
     "output_type": "stream",
     "text": [
      "59.0\n"
     ]
    }
   ],
   "source": [
    "from scipy.stats import binom\n",
    "\n",
    "print(binom.ppf(0.95, 100, 0.5) + 1)"
   ]
  },
  {
   "cell_type": "markdown",
   "metadata": {},
   "source": [
    "Which means, one should get 59 tosses or more to be considered clairvoyant. And we will say the person has predictive power with a confidence level of 95%.\n",
    "\n",
    "---"
   ]
  },
  {
   "cell_type": "markdown",
   "metadata": {},
   "source": [
    "## A More Specific Claim\n",
    "\n",
    "So far so good. What if instead I said, \"I'm not perfect, but I can predict coin tosses 60% of the time. Which is still good, which is still valuable.\"\n",
    "\n",
    "What do we do in this case? Sure, we can do exactly what we did earlier and when I predict 57 times, we can reject my claim.\n",
    "\n",
    "But what if I say, \"Wait a minute. I said 60 and I got 57, that sounds pretty good to me.\"\n",
    "\n",
    "Interpretation:\n",
    "> \"I happened to have a poor guessing day, and that's why my results aren't quite statistically significant!\"\n",
    "\n",
    "What do we say to that? The issue here is that there is no longer a single null hypothesis that we prove or disprove. Instead, **we have two competing hypotheses**:\n",
    "    * Hypothesis A: There is no predictive power\n",
    "    * Hypothesis B: There is a 60% predictive power\n",
    "\n",
    "Each is a normal curve, with one centered at 50% and the other at 60%."
   ]
  },
  {
   "cell_type": "code",
   "execution_count": 12,
   "metadata": {},
   "outputs": [
    {
     "data": {
      "image/svg+xml": "<?xml version=\"1.0\" encoding=\"utf-8\" standalone=\"no\"?>\n<!DOCTYPE svg PUBLIC \"-//W3C//DTD SVG 1.1//EN\"\n  \"http://www.w3.org/Graphics/SVG/1.1/DTD/svg11.dtd\">\n<svg xmlns:xlink=\"http://www.w3.org/1999/xlink\" width=\"381.221875pt\" height=\"247.985312pt\" viewBox=\"0 0 381.221875 247.985312\" xmlns=\"http://www.w3.org/2000/svg\" version=\"1.1\">\n <metadata>\n  <rdf:RDF xmlns:dc=\"http://purl.org/dc/elements/1.1/\" xmlns:cc=\"http://creativecommons.org/ns#\" xmlns:rdf=\"http://www.w3.org/1999/02/22-rdf-syntax-ns#\">\n   <cc:Work>\n    <dc:type rdf:resource=\"http://purl.org/dc/dcmitype/StillImage\"/>\n    <dc:date>2022-08-17T18:25:57.338735</dc:date>\n    <dc:format>image/svg+xml</dc:format>\n    <dc:creator>\n     <cc:Agent>\n      <dc:title>Matplotlib v3.5.1, https://matplotlib.org/</dc:title>\n     </cc:Agent>\n    </dc:creator>\n   </cc:Work>\n  </rdf:RDF>\n </metadata>\n <defs>\n  <style type=\"text/css\">*{stroke-linejoin: round; stroke-linecap: butt}</style>\n </defs>\n <g id=\"figure_1\">\n  <g id=\"patch_1\">\n   <path d=\"M 0 247.985312 \nL 381.221875 247.985312 \nL 381.221875 0 \nL 0 0 \nz\n\" style=\"fill: #ffffff\"/>\n  </g>\n  <g id=\"axes_1\">\n   <g id=\"patch_2\">\n    <path d=\"M 33.660938 224.64 \nL 368.460938 224.64 \nL 368.460938 7.2 \nL 33.660938 7.2 \nz\n\" style=\"fill: #ffffff\"/>\n   </g>\n   <g id=\"matplotlib.axis_1\">\n    <g id=\"xtick_1\">\n     <g id=\"line2d_1\">\n      <path d=\"M 33.660938 224.64 \nL 33.660938 7.2 \n\" clip-path=\"url(#p21f48d659d)\" style=\"fill: none; stroke: #cccccc; stroke-width: 0.8; stroke-linecap: round\"/>\n     </g>\n     <g id=\"text_1\">\n      <!-- 30 -->\n      <g style=\"fill: #262626\" transform=\"translate(28.1 238.797812)scale(0.1 -0.1)\">\n       <defs>\n        <path id=\"ArialMT-33\" d=\"M 269 1209 \nL 831 1284 \nQ 928 806 1161 595 \nQ 1394 384 1728 384 \nQ 2125 384 2398 659 \nQ 2672 934 2672 1341 \nQ 2672 1728 2419 1979 \nQ 2166 2231 1775 2231 \nQ 1616 2231 1378 2169 \nL 1441 2663 \nQ 1497 2656 1531 2656 \nQ 1891 2656 2178 2843 \nQ 2466 3031 2466 3422 \nQ 2466 3731 2256 3934 \nQ 2047 4138 1716 4138 \nQ 1388 4138 1169 3931 \nQ 950 3725 888 3313 \nL 325 3413 \nQ 428 3978 793 4289 \nQ 1159 4600 1703 4600 \nQ 2078 4600 2393 4439 \nQ 2709 4278 2876 4000 \nQ 3044 3722 3044 3409 \nQ 3044 3113 2884 2869 \nQ 2725 2625 2413 2481 \nQ 2819 2388 3044 2092 \nQ 3269 1797 3269 1353 \nQ 3269 753 2831 336 \nQ 2394 -81 1725 -81 \nQ 1122 -81 723 278 \nQ 325 638 269 1209 \nz\n\" transform=\"scale(0.015625)\"/>\n        <path id=\"ArialMT-30\" d=\"M 266 2259 \nQ 266 3072 433 3567 \nQ 600 4063 929 4331 \nQ 1259 4600 1759 4600 \nQ 2128 4600 2406 4451 \nQ 2684 4303 2865 4023 \nQ 3047 3744 3150 3342 \nQ 3253 2941 3253 2259 \nQ 3253 1453 3087 958 \nQ 2922 463 2592 192 \nQ 2263 -78 1759 -78 \nQ 1097 -78 719 397 \nQ 266 969 266 2259 \nz\nM 844 2259 \nQ 844 1131 1108 757 \nQ 1372 384 1759 384 \nQ 2147 384 2411 759 \nQ 2675 1134 2675 2259 \nQ 2675 3391 2411 3762 \nQ 2147 4134 1753 4134 \nQ 1366 4134 1134 3806 \nQ 844 3388 844 2259 \nz\n\" transform=\"scale(0.015625)\"/>\n       </defs>\n       <use xlink:href=\"#ArialMT-33\"/>\n       <use xlink:href=\"#ArialMT-30\" x=\"55.615234\"/>\n      </g>\n     </g>\n    </g>\n    <g id=\"xtick_2\">\n     <g id=\"line2d_2\">\n      <path d=\"M 100.620938 224.64 \nL 100.620938 7.2 \n\" clip-path=\"url(#p21f48d659d)\" style=\"fill: none; stroke: #cccccc; stroke-width: 0.8; stroke-linecap: round\"/>\n     </g>\n     <g id=\"text_2\">\n      <!-- 40 -->\n      <g style=\"fill: #262626\" transform=\"translate(95.06 238.797812)scale(0.1 -0.1)\">\n       <defs>\n        <path id=\"ArialMT-34\" d=\"M 2069 0 \nL 2069 1097 \nL 81 1097 \nL 81 1613 \nL 2172 4581 \nL 2631 4581 \nL 2631 1613 \nL 3250 1613 \nL 3250 1097 \nL 2631 1097 \nL 2631 0 \nL 2069 0 \nz\nM 2069 1613 \nL 2069 3678 \nL 634 1613 \nL 2069 1613 \nz\n\" transform=\"scale(0.015625)\"/>\n       </defs>\n       <use xlink:href=\"#ArialMT-34\"/>\n       <use xlink:href=\"#ArialMT-30\" x=\"55.615234\"/>\n      </g>\n     </g>\n    </g>\n    <g id=\"xtick_3\">\n     <g id=\"line2d_3\">\n      <path d=\"M 167.580938 224.64 \nL 167.580938 7.2 \n\" clip-path=\"url(#p21f48d659d)\" style=\"fill: none; stroke: #cccccc; stroke-width: 0.8; stroke-linecap: round\"/>\n     </g>\n     <g id=\"text_3\">\n      <!-- 50 -->\n      <g style=\"fill: #262626\" transform=\"translate(162.02 238.797812)scale(0.1 -0.1)\">\n       <defs>\n        <path id=\"ArialMT-35\" d=\"M 266 1200 \nL 856 1250 \nQ 922 819 1161 601 \nQ 1400 384 1738 384 \nQ 2144 384 2425 690 \nQ 2706 997 2706 1503 \nQ 2706 1984 2436 2262 \nQ 2166 2541 1728 2541 \nQ 1456 2541 1237 2417 \nQ 1019 2294 894 2097 \nL 366 2166 \nL 809 4519 \nL 3088 4519 \nL 3088 3981 \nL 1259 3981 \nL 1013 2750 \nQ 1425 3038 1878 3038 \nQ 2478 3038 2890 2622 \nQ 3303 2206 3303 1553 \nQ 3303 931 2941 478 \nQ 2500 -78 1738 -78 \nQ 1113 -78 717 272 \nQ 322 622 266 1200 \nz\n\" transform=\"scale(0.015625)\"/>\n       </defs>\n       <use xlink:href=\"#ArialMT-35\"/>\n       <use xlink:href=\"#ArialMT-30\" x=\"55.615234\"/>\n      </g>\n     </g>\n    </g>\n    <g id=\"xtick_4\">\n     <g id=\"line2d_4\">\n      <path d=\"M 234.540938 224.64 \nL 234.540938 7.2 \n\" clip-path=\"url(#p21f48d659d)\" style=\"fill: none; stroke: #cccccc; stroke-width: 0.8; stroke-linecap: round\"/>\n     </g>\n     <g id=\"text_4\">\n      <!-- 60 -->\n      <g style=\"fill: #262626\" transform=\"translate(228.98 238.797812)scale(0.1 -0.1)\">\n       <defs>\n        <path id=\"ArialMT-36\" d=\"M 3184 3459 \nL 2625 3416 \nQ 2550 3747 2413 3897 \nQ 2184 4138 1850 4138 \nQ 1581 4138 1378 3988 \nQ 1113 3794 959 3422 \nQ 806 3050 800 2363 \nQ 1003 2672 1297 2822 \nQ 1591 2972 1913 2972 \nQ 2475 2972 2870 2558 \nQ 3266 2144 3266 1488 \nQ 3266 1056 3080 686 \nQ 2894 316 2569 119 \nQ 2244 -78 1831 -78 \nQ 1128 -78 684 439 \nQ 241 956 241 2144 \nQ 241 3472 731 4075 \nQ 1159 4600 1884 4600 \nQ 2425 4600 2770 4297 \nQ 3116 3994 3184 3459 \nz\nM 888 1484 \nQ 888 1194 1011 928 \nQ 1134 663 1356 523 \nQ 1578 384 1822 384 \nQ 2178 384 2434 671 \nQ 2691 959 2691 1453 \nQ 2691 1928 2437 2201 \nQ 2184 2475 1800 2475 \nQ 1419 2475 1153 2201 \nQ 888 1928 888 1484 \nz\n\" transform=\"scale(0.015625)\"/>\n       </defs>\n       <use xlink:href=\"#ArialMT-36\"/>\n       <use xlink:href=\"#ArialMT-30\" x=\"55.615234\"/>\n      </g>\n     </g>\n    </g>\n    <g id=\"xtick_5\">\n     <g id=\"line2d_5\">\n      <path d=\"M 301.500938 224.64 \nL 301.500938 7.2 \n\" clip-path=\"url(#p21f48d659d)\" style=\"fill: none; stroke: #cccccc; stroke-width: 0.8; stroke-linecap: round\"/>\n     </g>\n     <g id=\"text_5\">\n      <!-- 70 -->\n      <g style=\"fill: #262626\" transform=\"translate(295.94 238.797812)scale(0.1 -0.1)\">\n       <defs>\n        <path id=\"ArialMT-37\" d=\"M 303 3981 \nL 303 4522 \nL 3269 4522 \nL 3269 4084 \nQ 2831 3619 2401 2847 \nQ 1972 2075 1738 1259 \nQ 1569 684 1522 0 \nL 944 0 \nQ 953 541 1156 1306 \nQ 1359 2072 1739 2783 \nQ 2119 3494 2547 3981 \nL 303 3981 \nz\n\" transform=\"scale(0.015625)\"/>\n       </defs>\n       <use xlink:href=\"#ArialMT-37\"/>\n       <use xlink:href=\"#ArialMT-30\" x=\"55.615234\"/>\n      </g>\n     </g>\n    </g>\n    <g id=\"xtick_6\">\n     <g id=\"line2d_6\">\n      <path d=\"M 368.460938 224.64 \nL 368.460938 7.2 \n\" clip-path=\"url(#p21f48d659d)\" style=\"fill: none; stroke: #cccccc; stroke-width: 0.8; stroke-linecap: round\"/>\n     </g>\n     <g id=\"text_6\">\n      <!-- 80 -->\n      <g style=\"fill: #262626\" transform=\"translate(362.9 238.797812)scale(0.1 -0.1)\">\n       <defs>\n        <path id=\"ArialMT-38\" d=\"M 1131 2484 \nQ 781 2613 612 2850 \nQ 444 3088 444 3419 \nQ 444 3919 803 4259 \nQ 1163 4600 1759 4600 \nQ 2359 4600 2725 4251 \nQ 3091 3903 3091 3403 \nQ 3091 3084 2923 2848 \nQ 2756 2613 2416 2484 \nQ 2838 2347 3058 2040 \nQ 3278 1734 3278 1309 \nQ 3278 722 2862 322 \nQ 2447 -78 1769 -78 \nQ 1091 -78 675 323 \nQ 259 725 259 1325 \nQ 259 1772 486 2073 \nQ 713 2375 1131 2484 \nz\nM 1019 3438 \nQ 1019 3113 1228 2906 \nQ 1438 2700 1772 2700 \nQ 2097 2700 2305 2904 \nQ 2513 3109 2513 3406 \nQ 2513 3716 2298 3927 \nQ 2084 4138 1766 4138 \nQ 1444 4138 1231 3931 \nQ 1019 3725 1019 3438 \nz\nM 838 1322 \nQ 838 1081 952 856 \nQ 1066 631 1291 507 \nQ 1516 384 1775 384 \nQ 2178 384 2440 643 \nQ 2703 903 2703 1303 \nQ 2703 1709 2433 1975 \nQ 2163 2241 1756 2241 \nQ 1359 2241 1098 1978 \nQ 838 1716 838 1322 \nz\n\" transform=\"scale(0.015625)\"/>\n       </defs>\n       <use xlink:href=\"#ArialMT-38\"/>\n       <use xlink:href=\"#ArialMT-30\" x=\"55.615234\"/>\n      </g>\n     </g>\n    </g>\n   </g>\n   <g id=\"matplotlib.axis_2\">\n    <g id=\"ytick_1\">\n     <g id=\"line2d_7\">\n      <path d=\"M 33.660938 214.756364 \nL 368.460938 214.756364 \n\" clip-path=\"url(#p21f48d659d)\" style=\"fill: none; stroke: #cccccc; stroke-width: 0.8; stroke-linecap: round\"/>\n     </g>\n     <g id=\"text_7\">\n      <!-- 0.00 -->\n      <g style=\"fill: #262626\" transform=\"translate(7.2 218.33527)scale(0.1 -0.1)\">\n       <defs>\n        <path id=\"ArialMT-2e\" d=\"M 581 0 \nL 581 641 \nL 1222 641 \nL 1222 0 \nL 581 0 \nz\n\" transform=\"scale(0.015625)\"/>\n       </defs>\n       <use xlink:href=\"#ArialMT-30\"/>\n       <use xlink:href=\"#ArialMT-2e\" x=\"55.615234\"/>\n       <use xlink:href=\"#ArialMT-30\" x=\"83.398438\"/>\n       <use xlink:href=\"#ArialMT-30\" x=\"139.013672\"/>\n      </g>\n     </g>\n    </g>\n    <g id=\"ytick_2\">\n     <g id=\"line2d_8\">\n      <path d=\"M 33.660938 183.355324 \nL 368.460938 183.355324 \n\" clip-path=\"url(#p21f48d659d)\" style=\"fill: none; stroke: #cccccc; stroke-width: 0.8; stroke-linecap: round\"/>\n     </g>\n     <g id=\"text_8\">\n      <!-- 0.02 -->\n      <g style=\"fill: #262626\" transform=\"translate(7.2 186.93423)scale(0.1 -0.1)\">\n       <defs>\n        <path id=\"ArialMT-32\" d=\"M 3222 541 \nL 3222 0 \nL 194 0 \nQ 188 203 259 391 \nQ 375 700 629 1000 \nQ 884 1300 1366 1694 \nQ 2113 2306 2375 2664 \nQ 2638 3022 2638 3341 \nQ 2638 3675 2398 3904 \nQ 2159 4134 1775 4134 \nQ 1369 4134 1125 3890 \nQ 881 3647 878 3216 \nL 300 3275 \nQ 359 3922 746 4261 \nQ 1134 4600 1788 4600 \nQ 2447 4600 2831 4234 \nQ 3216 3869 3216 3328 \nQ 3216 3053 3103 2787 \nQ 2991 2522 2730 2228 \nQ 2469 1934 1863 1422 \nQ 1356 997 1212 845 \nQ 1069 694 975 541 \nL 3222 541 \nz\n\" transform=\"scale(0.015625)\"/>\n       </defs>\n       <use xlink:href=\"#ArialMT-30\"/>\n       <use xlink:href=\"#ArialMT-2e\" x=\"55.615234\"/>\n       <use xlink:href=\"#ArialMT-30\" x=\"83.398438\"/>\n       <use xlink:href=\"#ArialMT-32\" x=\"139.013672\"/>\n      </g>\n     </g>\n    </g>\n    <g id=\"ytick_3\">\n     <g id=\"line2d_9\">\n      <path d=\"M 33.660938 151.954285 \nL 368.460938 151.954285 \n\" clip-path=\"url(#p21f48d659d)\" style=\"fill: none; stroke: #cccccc; stroke-width: 0.8; stroke-linecap: round\"/>\n     </g>\n     <g id=\"text_9\">\n      <!-- 0.04 -->\n      <g style=\"fill: #262626\" transform=\"translate(7.2 155.533191)scale(0.1 -0.1)\">\n       <use xlink:href=\"#ArialMT-30\"/>\n       <use xlink:href=\"#ArialMT-2e\" x=\"55.615234\"/>\n       <use xlink:href=\"#ArialMT-30\" x=\"83.398438\"/>\n       <use xlink:href=\"#ArialMT-34\" x=\"139.013672\"/>\n      </g>\n     </g>\n    </g>\n    <g id=\"ytick_4\">\n     <g id=\"line2d_10\">\n      <path d=\"M 33.660938 120.553245 \nL 368.460938 120.553245 \n\" clip-path=\"url(#p21f48d659d)\" style=\"fill: none; stroke: #cccccc; stroke-width: 0.8; stroke-linecap: round\"/>\n     </g>\n     <g id=\"text_10\">\n      <!-- 0.06 -->\n      <g style=\"fill: #262626\" transform=\"translate(7.2 124.132152)scale(0.1 -0.1)\">\n       <use xlink:href=\"#ArialMT-30\"/>\n       <use xlink:href=\"#ArialMT-2e\" x=\"55.615234\"/>\n       <use xlink:href=\"#ArialMT-30\" x=\"83.398438\"/>\n       <use xlink:href=\"#ArialMT-36\" x=\"139.013672\"/>\n      </g>\n     </g>\n    </g>\n    <g id=\"ytick_5\">\n     <g id=\"line2d_11\">\n      <path d=\"M 33.660938 89.152206 \nL 368.460938 89.152206 \n\" clip-path=\"url(#p21f48d659d)\" style=\"fill: none; stroke: #cccccc; stroke-width: 0.8; stroke-linecap: round\"/>\n     </g>\n     <g id=\"text_11\">\n      <!-- 0.08 -->\n      <g style=\"fill: #262626\" transform=\"translate(7.2 92.731112)scale(0.1 -0.1)\">\n       <use xlink:href=\"#ArialMT-30\"/>\n       <use xlink:href=\"#ArialMT-2e\" x=\"55.615234\"/>\n       <use xlink:href=\"#ArialMT-30\" x=\"83.398438\"/>\n       <use xlink:href=\"#ArialMT-38\" x=\"139.013672\"/>\n      </g>\n     </g>\n    </g>\n    <g id=\"ytick_6\">\n     <g id=\"line2d_12\">\n      <path d=\"M 33.660938 57.751166 \nL 368.460938 57.751166 \n\" clip-path=\"url(#p21f48d659d)\" style=\"fill: none; stroke: #cccccc; stroke-width: 0.8; stroke-linecap: round\"/>\n     </g>\n     <g id=\"text_12\">\n      <!-- 0.10 -->\n      <g style=\"fill: #262626\" transform=\"translate(7.2 61.330073)scale(0.1 -0.1)\">\n       <defs>\n        <path id=\"ArialMT-31\" d=\"M 2384 0 \nL 1822 0 \nL 1822 3584 \nQ 1619 3391 1289 3197 \nQ 959 3003 697 2906 \nL 697 3450 \nQ 1169 3672 1522 3987 \nQ 1875 4303 2022 4600 \nL 2384 4600 \nL 2384 0 \nz\n\" transform=\"scale(0.015625)\"/>\n       </defs>\n       <use xlink:href=\"#ArialMT-30\"/>\n       <use xlink:href=\"#ArialMT-2e\" x=\"55.615234\"/>\n       <use xlink:href=\"#ArialMT-31\" x=\"83.398438\"/>\n       <use xlink:href=\"#ArialMT-30\" x=\"139.013672\"/>\n      </g>\n     </g>\n    </g>\n    <g id=\"ytick_7\">\n     <g id=\"line2d_13\">\n      <path d=\"M 33.660938 26.350127 \nL 368.460938 26.350127 \n\" clip-path=\"url(#p21f48d659d)\" style=\"fill: none; stroke: #cccccc; stroke-width: 0.8; stroke-linecap: round\"/>\n     </g>\n     <g id=\"text_13\">\n      <!-- 0.12 -->\n      <g style=\"fill: #262626\" transform=\"translate(7.2 29.929033)scale(0.1 -0.1)\">\n       <use xlink:href=\"#ArialMT-30\"/>\n       <use xlink:href=\"#ArialMT-2e\" x=\"55.615234\"/>\n       <use xlink:href=\"#ArialMT-31\" x=\"83.398438\"/>\n       <use xlink:href=\"#ArialMT-32\" x=\"139.013672\"/>\n      </g>\n     </g>\n    </g>\n   </g>\n   <g id=\"line2d_14\">\n    <path d=\"M -1 214.756364 \nL 82.652777 214.692743 \nL 89.315128 214.542486 \nL 95.97748 214.105125 \nL 99.308656 213.661387 \nL 102.639832 212.960304 \nL 105.971008 211.882354 \nL 109.302184 210.269868 \nL 112.63336 207.923893 \nL 115.964535 204.605575 \nL 119.295711 200.044312 \nL 122.626887 193.954694 \nL 125.958063 186.063451 \nL 129.289239 176.146119 \nL 132.620415 164.071071 \nL 135.951591 149.84618 \nL 139.282767 133.661153 \nL 142.613943 115.917201 \nL 152.60747 60.501272 \nL 155.938646 44.470228 \nL 159.269822 31.368515 \nL 162.600998 22.086716 \nL 165.932174 17.283449 \nL 169.26335 17.308131 \nL 172.594525 22.158951 \nL 175.925701 31.483094 \nL 179.256877 44.619159 \nL 182.588053 60.674707 \nL 185.919229 78.626294 \nL 192.581581 116.102346 \nL 195.912757 133.833293 \nL 199.243932 150.000155 \nL 202.575108 164.203942 \nL 205.906284 176.256961 \nL 209.23746 186.152974 \nL 212.568636 194.024779 \nL 215.899812 200.097545 \nL 219.230988 204.644832 \nL 222.562164 207.952018 \nL 225.89334 210.289453 \nL 229.224515 211.895615 \nL 232.555691 212.969038 \nL 235.886867 213.666985 \nL 239.218043 214.108616 \nL 245.880395 214.543739 \nL 255.873922 214.72315 \nL 282.523329 214.756285 \nL 382.221875 214.756364 \nL 382.221875 214.756364 \n\" clip-path=\"url(#p21f48d659d)\" style=\"fill: none; stroke: #1f77b4; stroke-width: 1.5; stroke-linecap: round\"/>\n   </g>\n   <g id=\"line2d_15\">\n    <path d=\"M -1 214.756364 \nL 152.60747 214.645291 \nL 159.269822 214.399215 \nL 162.600998 214.139274 \nL 165.932174 213.716208 \nL 169.26335 213.045954 \nL 172.594525 212.012558 \nL 175.925701 210.462403 \nL 179.256877 208.200736 \nL 182.588053 204.992495 \nL 185.919229 200.569672 \nL 189.250405 194.647303 \nL 192.581581 186.949377 \nL 195.912757 177.244594 \nL 199.243932 165.389827 \nL 202.575108 151.376798 \nL 205.906284 135.375224 \nL 209.23746 117.764145 \nL 219.230988 62.244205 \nL 222.562164 45.972875 \nL 225.89334 32.531794 \nL 229.224515 22.829666 \nL 232.555691 17.55254 \nL 235.886867 17.083636 \nL 239.218043 21.45734 \nL 242.549219 30.355033 \nL 245.880395 43.143467 \nL 249.211571 58.949252 \nL 252.542747 76.757308 \nL 259.205098 114.246602 \nL 262.536274 132.104713 \nL 265.86745 148.451361 \nL 269.198626 162.865302 \nL 272.529802 175.13857 \nL 275.860978 185.248382 \nL 279.192154 193.315602 \nL 282.523329 199.558155 \nL 285.854505 204.246525 \nL 289.185681 207.666282 \nL 292.516857 210.090223 \nL 295.848033 211.760542 \nL 299.179209 212.879963 \nL 302.510385 213.60983 \nL 305.841561 214.072925 \nL 309.172736 214.358931 \nL 315.835088 214.631583 \nL 325.828616 214.738131 \nL 372.465078 214.756364 \nL 382.221875 214.756364 \nL 382.221875 214.756364 \n\" clip-path=\"url(#p21f48d659d)\" style=\"fill: none; stroke: #ff7f0e; stroke-width: 1.5; stroke-linecap: round\"/>\n   </g>\n   <g id=\"patch_3\">\n    <path d=\"M 33.660938 224.64 \nL 33.660938 7.2 \n\" style=\"fill: none; stroke: #cccccc; stroke-width: 0.8; stroke-linejoin: miter; stroke-linecap: square\"/>\n   </g>\n   <g id=\"patch_4\">\n    <path d=\"M 368.460938 224.64 \nL 368.460938 7.2 \n\" style=\"fill: none; stroke: #cccccc; stroke-width: 0.8; stroke-linejoin: miter; stroke-linecap: square\"/>\n   </g>\n   <g id=\"patch_5\">\n    <path d=\"M 33.660938 224.64 \nL 368.460938 224.64 \n\" style=\"fill: none; stroke: #cccccc; stroke-width: 0.8; stroke-linejoin: miter; stroke-linecap: square\"/>\n   </g>\n   <g id=\"patch_6\">\n    <path d=\"M 33.660938 7.2 \nL 368.460938 7.2 \n\" style=\"fill: none; stroke: #cccccc; stroke-width: 0.8; stroke-linejoin: miter; stroke-linecap: square\"/>\n   </g>\n  </g>\n </g>\n <defs>\n  <clipPath id=\"p21f48d659d\">\n   <rect x=\"33.660938\" y=\"7.2\" width=\"334.8\" height=\"217.44\"/>\n  </clipPath>\n </defs>\n</svg>\n",
      "text/plain": [
       "<Figure size 432x288 with 1 Axes>"
      ]
     },
     "metadata": {},
     "output_type": "display_data"
    }
   ],
   "source": [
    "mu = 50\n",
    "variance = 10\n",
    "sigma = math.sqrt(variance)\n",
    "x = np.linspace(1, 100, 200)\n",
    "plt.plot(x, stats.norm.pdf(x, mu, sigma))\n",
    "\n",
    "mu = 60\n",
    "variance = 10\n",
    "sigma = math.sqrt(variance)\n",
    "x = np.linspace(1, 100, 200)\n",
    "plt.plot(x, stats.norm.pdf(x, mu, sigma))\n",
    "\n",
    "plt.xlim(30, 80)\n",
    "plt.show()"
   ]
  },
  {
   "cell_type": "markdown",
   "metadata": {},
   "source": [
    "**And 57 correct guesses falls within the 95% confidence of both the curves:**"
   ]
  },
  {
   "cell_type": "code",
   "execution_count": 13,
   "metadata": {},
   "outputs": [
    {
     "name": "stdout",
     "output_type": "stream",
     "text": [
      "0.06660530960360689\n",
      "0.3032601298434462\n"
     ]
    }
   ],
   "source": [
    "print(1 - binom.cdf(57, 100, 0.5))\n",
    "print(binom.cdf(57, 100, 0.6))"
   ]
  },
  {
   "cell_type": "markdown",
   "metadata": {},
   "source": [
    "What now? There just isn't enough data to achieve a confidence of 95%. There are few things we can do."
   ]
  },
  {
   "cell_type": "markdown",
   "metadata": {},
   "source": [
    "### 1) Decrease confidence\n",
    "\n",
    "\n",
    "Since we have a claim at 50 and 60, we can pick the mid-point, which is 55. We can say if I can predict over 55, then I have predictive power. This would mean that we have decreased our confidence level."
   ]
  },
  {
   "cell_type": "code",
   "execution_count": 14,
   "metadata": {},
   "outputs": [
    {
     "name": "stdout",
     "output_type": "stream",
     "text": [
      "0.13562651203691767\n",
      "0.1310904526197478\n"
     ]
    }
   ],
   "source": [
    "print(1 - binom.cdf(55, 100, 0.5))\n",
    "print(binom.cdf(54, 100, 0.6))"
   ]
  },
  {
   "cell_type": "markdown",
   "metadata": {},
   "source": [
    "** At an 87% percent confidence level, we can say that I have some predictive power, since I got 57 tosses correct.**\n",
    "\n",
    "Not ideal; we picked a number, which is prone to bias, rather than a confidence interval."
   ]
  },
  {
   "cell_type": "markdown",
   "metadata": {},
   "source": [
    "### 2) Be biased\n",
    "\n",
    "But it is not neccessary that we bias the two hypotheses equally and pick the midpoint the way we did. The cut-off point can be anywhere. Currently, our error margins are even. The chance that someone has predictive power and we say no is 13% and the chance that someone has no power and we say they do is also 13%. As we change the cutoff, one error goes down and the other goes way up.\n",
    "\n",
    "For example, if we stuck with the original 95% on a coin being fair:"
   ]
  },
  {
   "cell_type": "code",
   "execution_count": 17,
   "metadata": {},
   "outputs": [
    {
     "data": {
      "text/plain": [
       "58.0"
      ]
     },
     "execution_count": 17,
     "metadata": {},
     "output_type": "execute_result"
    }
   ],
   "source": [
    "binom.ppf(0.95, 100, 0.5) #this is the inverse of the cdf functions above"
   ]
  },
  {
   "cell_type": "markdown",
   "metadata": {},
   "source": [
    "Then our cutff is 58. Our two errors will be:"
   ]
  },
  {
   "cell_type": "code",
   "execution_count": 18,
   "metadata": {},
   "outputs": [
    {
     "name": "stdout",
     "output_type": "stream",
     "text": [
      "0.04431304005703385\n",
      "0.3774673238778292\n"
     ]
    }
   ],
   "source": [
    "print(1 - binom.cdf(58, 100, 0.5))\n",
    "print(binom.cdf(58, 100, 0.6))"
   ]
  },
  {
   "cell_type": "markdown",
   "metadata": {},
   "source": [
    "5% chance someone has no power and we say they do. But a 38% chance someone has predictive power and we say no. Which depending on the problem might be exactly what we want. These two types of errors are called Type I and Type II. And we have the choice of biasing against one or the other. "
   ]
  },
  {
   "cell_type": "markdown",
   "metadata": {},
   "source": [
    "### 3) Increase sample size\n",
    "\n",
    "The best scenario though is to increase the sample size. Imagine what happens we did 1000 tosses instead of 100."
   ]
  },
  {
   "cell_type": "code",
   "execution_count": 19,
   "metadata": {},
   "outputs": [
    {
     "data": {
      "image/svg+xml": "<?xml version=\"1.0\" encoding=\"utf-8\" standalone=\"no\"?>\n<!DOCTYPE svg PUBLIC \"-//W3C//DTD SVG 1.1//EN\"\n  \"http://www.w3.org/Graphics/SVG/1.1/DTD/svg11.dtd\">\n<svg xmlns:xlink=\"http://www.w3.org/1999/xlink\" width=\"385.391406pt\" height=\"247.985312pt\" viewBox=\"0 0 385.391406 247.985312\" xmlns=\"http://www.w3.org/2000/svg\" version=\"1.1\">\n <metadata>\n  <rdf:RDF xmlns:dc=\"http://purl.org/dc/elements/1.1/\" xmlns:cc=\"http://creativecommons.org/ns#\" xmlns:rdf=\"http://www.w3.org/1999/02/22-rdf-syntax-ns#\">\n   <cc:Work>\n    <dc:type rdf:resource=\"http://purl.org/dc/dcmitype/StillImage\"/>\n    <dc:date>2022-08-17T18:38:31.813686</dc:date>\n    <dc:format>image/svg+xml</dc:format>\n    <dc:creator>\n     <cc:Agent>\n      <dc:title>Matplotlib v3.5.1, https://matplotlib.org/</dc:title>\n     </cc:Agent>\n    </dc:creator>\n   </cc:Work>\n  </rdf:RDF>\n </metadata>\n <defs>\n  <style type=\"text/css\">*{stroke-linejoin: round; stroke-linecap: butt}</style>\n </defs>\n <g id=\"figure_1\">\n  <g id=\"patch_1\">\n   <path d=\"M 0 247.985312 \nL 385.391406 247.985312 \nL 385.391406 0 \nL 0 0 \nz\n\" style=\"fill: #ffffff\"/>\n  </g>\n  <g id=\"axes_1\">\n   <g id=\"patch_2\">\n    <path d=\"M 33.660938 224.64 \nL 368.460938 224.64 \nL 368.460938 7.2 \nL 33.660938 7.2 \nz\n\" style=\"fill: #ffffff\"/>\n   </g>\n   <g id=\"matplotlib.axis_1\">\n    <g id=\"xtick_1\">\n     <g id=\"line2d_1\">\n      <path d=\"M 33.660938 224.64 \nL 33.660938 7.2 \n\" clip-path=\"url(#p25bf3b8ead)\" style=\"fill: none; stroke: #cccccc; stroke-width: 0.8; stroke-linecap: round\"/>\n     </g>\n     <g id=\"text_1\">\n      <!-- 45.0 -->\n      <g style=\"fill: #262626\" transform=\"translate(23.930469 238.797812)scale(0.1 -0.1)\">\n       <defs>\n        <path id=\"ArialMT-34\" d=\"M 2069 0 \nL 2069 1097 \nL 81 1097 \nL 81 1613 \nL 2172 4581 \nL 2631 4581 \nL 2631 1613 \nL 3250 1613 \nL 3250 1097 \nL 2631 1097 \nL 2631 0 \nL 2069 0 \nz\nM 2069 1613 \nL 2069 3678 \nL 634 1613 \nL 2069 1613 \nz\n\" transform=\"scale(0.015625)\"/>\n        <path id=\"ArialMT-35\" d=\"M 266 1200 \nL 856 1250 \nQ 922 819 1161 601 \nQ 1400 384 1738 384 \nQ 2144 384 2425 690 \nQ 2706 997 2706 1503 \nQ 2706 1984 2436 2262 \nQ 2166 2541 1728 2541 \nQ 1456 2541 1237 2417 \nQ 1019 2294 894 2097 \nL 366 2166 \nL 809 4519 \nL 3088 4519 \nL 3088 3981 \nL 1259 3981 \nL 1013 2750 \nQ 1425 3038 1878 3038 \nQ 2478 3038 2890 2622 \nQ 3303 2206 3303 1553 \nQ 3303 931 2941 478 \nQ 2500 -78 1738 -78 \nQ 1113 -78 717 272 \nQ 322 622 266 1200 \nz\n\" transform=\"scale(0.015625)\"/>\n        <path id=\"ArialMT-2e\" d=\"M 581 0 \nL 581 641 \nL 1222 641 \nL 1222 0 \nL 581 0 \nz\n\" transform=\"scale(0.015625)\"/>\n        <path id=\"ArialMT-30\" d=\"M 266 2259 \nQ 266 3072 433 3567 \nQ 600 4063 929 4331 \nQ 1259 4600 1759 4600 \nQ 2128 4600 2406 4451 \nQ 2684 4303 2865 4023 \nQ 3047 3744 3150 3342 \nQ 3253 2941 3253 2259 \nQ 3253 1453 3087 958 \nQ 2922 463 2592 192 \nQ 2263 -78 1759 -78 \nQ 1097 -78 719 397 \nQ 266 969 266 2259 \nz\nM 844 2259 \nQ 844 1131 1108 757 \nQ 1372 384 1759 384 \nQ 2147 384 2411 759 \nQ 2675 1134 2675 2259 \nQ 2675 3391 2411 3762 \nQ 2147 4134 1753 4134 \nQ 1366 4134 1134 3806 \nQ 844 3388 844 2259 \nz\n\" transform=\"scale(0.015625)\"/>\n       </defs>\n       <use xlink:href=\"#ArialMT-34\"/>\n       <use xlink:href=\"#ArialMT-35\" x=\"55.615234\"/>\n       <use xlink:href=\"#ArialMT-2e\" x=\"111.230469\"/>\n       <use xlink:href=\"#ArialMT-30\" x=\"139.013672\"/>\n      </g>\n     </g>\n    </g>\n    <g id=\"xtick_2\">\n     <g id=\"line2d_2\">\n      <path d=\"M 75.510938 224.64 \nL 75.510938 7.2 \n\" clip-path=\"url(#p25bf3b8ead)\" style=\"fill: none; stroke: #cccccc; stroke-width: 0.8; stroke-linecap: round\"/>\n     </g>\n     <g id=\"text_2\">\n      <!-- 47.5 -->\n      <g style=\"fill: #262626\" transform=\"translate(65.780469 238.797812)scale(0.1 -0.1)\">\n       <defs>\n        <path id=\"ArialMT-37\" d=\"M 303 3981 \nL 303 4522 \nL 3269 4522 \nL 3269 4084 \nQ 2831 3619 2401 2847 \nQ 1972 2075 1738 1259 \nQ 1569 684 1522 0 \nL 944 0 \nQ 953 541 1156 1306 \nQ 1359 2072 1739 2783 \nQ 2119 3494 2547 3981 \nL 303 3981 \nz\n\" transform=\"scale(0.015625)\"/>\n       </defs>\n       <use xlink:href=\"#ArialMT-34\"/>\n       <use xlink:href=\"#ArialMT-37\" x=\"55.615234\"/>\n       <use xlink:href=\"#ArialMT-2e\" x=\"111.230469\"/>\n       <use xlink:href=\"#ArialMT-35\" x=\"139.013672\"/>\n      </g>\n     </g>\n    </g>\n    <g id=\"xtick_3\">\n     <g id=\"line2d_3\">\n      <path d=\"M 117.360938 224.64 \nL 117.360938 7.2 \n\" clip-path=\"url(#p25bf3b8ead)\" style=\"fill: none; stroke: #cccccc; stroke-width: 0.8; stroke-linecap: round\"/>\n     </g>\n     <g id=\"text_3\">\n      <!-- 50.0 -->\n      <g style=\"fill: #262626\" transform=\"translate(107.630469 238.797812)scale(0.1 -0.1)\">\n       <use xlink:href=\"#ArialMT-35\"/>\n       <use xlink:href=\"#ArialMT-30\" x=\"55.615234\"/>\n       <use xlink:href=\"#ArialMT-2e\" x=\"111.230469\"/>\n       <use xlink:href=\"#ArialMT-30\" x=\"139.013672\"/>\n      </g>\n     </g>\n    </g>\n    <g id=\"xtick_4\">\n     <g id=\"line2d_4\">\n      <path d=\"M 159.210938 224.64 \nL 159.210938 7.2 \n\" clip-path=\"url(#p25bf3b8ead)\" style=\"fill: none; stroke: #cccccc; stroke-width: 0.8; stroke-linecap: round\"/>\n     </g>\n     <g id=\"text_4\">\n      <!-- 52.5 -->\n      <g style=\"fill: #262626\" transform=\"translate(149.480469 238.797812)scale(0.1 -0.1)\">\n       <defs>\n        <path id=\"ArialMT-32\" d=\"M 3222 541 \nL 3222 0 \nL 194 0 \nQ 188 203 259 391 \nQ 375 700 629 1000 \nQ 884 1300 1366 1694 \nQ 2113 2306 2375 2664 \nQ 2638 3022 2638 3341 \nQ 2638 3675 2398 3904 \nQ 2159 4134 1775 4134 \nQ 1369 4134 1125 3890 \nQ 881 3647 878 3216 \nL 300 3275 \nQ 359 3922 746 4261 \nQ 1134 4600 1788 4600 \nQ 2447 4600 2831 4234 \nQ 3216 3869 3216 3328 \nQ 3216 3053 3103 2787 \nQ 2991 2522 2730 2228 \nQ 2469 1934 1863 1422 \nQ 1356 997 1212 845 \nQ 1069 694 975 541 \nL 3222 541 \nz\n\" transform=\"scale(0.015625)\"/>\n       </defs>\n       <use xlink:href=\"#ArialMT-35\"/>\n       <use xlink:href=\"#ArialMT-32\" x=\"55.615234\"/>\n       <use xlink:href=\"#ArialMT-2e\" x=\"111.230469\"/>\n       <use xlink:href=\"#ArialMT-35\" x=\"139.013672\"/>\n      </g>\n     </g>\n    </g>\n    <g id=\"xtick_5\">\n     <g id=\"line2d_5\">\n      <path d=\"M 201.060938 224.64 \nL 201.060938 7.2 \n\" clip-path=\"url(#p25bf3b8ead)\" style=\"fill: none; stroke: #cccccc; stroke-width: 0.8; stroke-linecap: round\"/>\n     </g>\n     <g id=\"text_5\">\n      <!-- 55.0 -->\n      <g style=\"fill: #262626\" transform=\"translate(191.330469 238.797812)scale(0.1 -0.1)\">\n       <use xlink:href=\"#ArialMT-35\"/>\n       <use xlink:href=\"#ArialMT-35\" x=\"55.615234\"/>\n       <use xlink:href=\"#ArialMT-2e\" x=\"111.230469\"/>\n       <use xlink:href=\"#ArialMT-30\" x=\"139.013672\"/>\n      </g>\n     </g>\n    </g>\n    <g id=\"xtick_6\">\n     <g id=\"line2d_6\">\n      <path d=\"M 242.910938 224.64 \nL 242.910938 7.2 \n\" clip-path=\"url(#p25bf3b8ead)\" style=\"fill: none; stroke: #cccccc; stroke-width: 0.8; stroke-linecap: round\"/>\n     </g>\n     <g id=\"text_6\">\n      <!-- 57.5 -->\n      <g style=\"fill: #262626\" transform=\"translate(233.180469 238.797812)scale(0.1 -0.1)\">\n       <use xlink:href=\"#ArialMT-35\"/>\n       <use xlink:href=\"#ArialMT-37\" x=\"55.615234\"/>\n       <use xlink:href=\"#ArialMT-2e\" x=\"111.230469\"/>\n       <use xlink:href=\"#ArialMT-35\" x=\"139.013672\"/>\n      </g>\n     </g>\n    </g>\n    <g id=\"xtick_7\">\n     <g id=\"line2d_7\">\n      <path d=\"M 284.760938 224.64 \nL 284.760938 7.2 \n\" clip-path=\"url(#p25bf3b8ead)\" style=\"fill: none; stroke: #cccccc; stroke-width: 0.8; stroke-linecap: round\"/>\n     </g>\n     <g id=\"text_7\">\n      <!-- 60.0 -->\n      <g style=\"fill: #262626\" transform=\"translate(275.030469 238.797812)scale(0.1 -0.1)\">\n       <defs>\n        <path id=\"ArialMT-36\" d=\"M 3184 3459 \nL 2625 3416 \nQ 2550 3747 2413 3897 \nQ 2184 4138 1850 4138 \nQ 1581 4138 1378 3988 \nQ 1113 3794 959 3422 \nQ 806 3050 800 2363 \nQ 1003 2672 1297 2822 \nQ 1591 2972 1913 2972 \nQ 2475 2972 2870 2558 \nQ 3266 2144 3266 1488 \nQ 3266 1056 3080 686 \nQ 2894 316 2569 119 \nQ 2244 -78 1831 -78 \nQ 1128 -78 684 439 \nQ 241 956 241 2144 \nQ 241 3472 731 4075 \nQ 1159 4600 1884 4600 \nQ 2425 4600 2770 4297 \nQ 3116 3994 3184 3459 \nz\nM 888 1484 \nQ 888 1194 1011 928 \nQ 1134 663 1356 523 \nQ 1578 384 1822 384 \nQ 2178 384 2434 671 \nQ 2691 959 2691 1453 \nQ 2691 1928 2437 2201 \nQ 2184 2475 1800 2475 \nQ 1419 2475 1153 2201 \nQ 888 1928 888 1484 \nz\n\" transform=\"scale(0.015625)\"/>\n       </defs>\n       <use xlink:href=\"#ArialMT-36\"/>\n       <use xlink:href=\"#ArialMT-30\" x=\"55.615234\"/>\n       <use xlink:href=\"#ArialMT-2e\" x=\"111.230469\"/>\n       <use xlink:href=\"#ArialMT-30\" x=\"139.013672\"/>\n      </g>\n     </g>\n    </g>\n    <g id=\"xtick_8\">\n     <g id=\"line2d_8\">\n      <path d=\"M 326.610938 224.64 \nL 326.610938 7.2 \n\" clip-path=\"url(#p25bf3b8ead)\" style=\"fill: none; stroke: #cccccc; stroke-width: 0.8; stroke-linecap: round\"/>\n     </g>\n     <g id=\"text_8\">\n      <!-- 62.5 -->\n      <g style=\"fill: #262626\" transform=\"translate(316.880469 238.797812)scale(0.1 -0.1)\">\n       <use xlink:href=\"#ArialMT-36\"/>\n       <use xlink:href=\"#ArialMT-32\" x=\"55.615234\"/>\n       <use xlink:href=\"#ArialMT-2e\" x=\"111.230469\"/>\n       <use xlink:href=\"#ArialMT-35\" x=\"139.013672\"/>\n      </g>\n     </g>\n    </g>\n    <g id=\"xtick_9\">\n     <g id=\"line2d_9\">\n      <path d=\"M 368.460938 224.64 \nL 368.460938 7.2 \n\" clip-path=\"url(#p25bf3b8ead)\" style=\"fill: none; stroke: #cccccc; stroke-width: 0.8; stroke-linecap: round\"/>\n     </g>\n     <g id=\"text_9\">\n      <!-- 65.0 -->\n      <g style=\"fill: #262626\" transform=\"translate(358.730469 238.797812)scale(0.1 -0.1)\">\n       <use xlink:href=\"#ArialMT-36\"/>\n       <use xlink:href=\"#ArialMT-35\" x=\"55.615234\"/>\n       <use xlink:href=\"#ArialMT-2e\" x=\"111.230469\"/>\n       <use xlink:href=\"#ArialMT-30\" x=\"139.013672\"/>\n      </g>\n     </g>\n    </g>\n   </g>\n   <g id=\"matplotlib.axis_2\">\n    <g id=\"ytick_1\">\n     <g id=\"line2d_10\">\n      <path d=\"M 33.660938 214.756364 \nL 368.460938 214.756364 \n\" clip-path=\"url(#p25bf3b8ead)\" style=\"fill: none; stroke: #cccccc; stroke-width: 0.8; stroke-linecap: round\"/>\n     </g>\n     <g id=\"text_10\">\n      <!-- 0.00 -->\n      <g style=\"fill: #262626\" transform=\"translate(7.2 218.33527)scale(0.1 -0.1)\">\n       <use xlink:href=\"#ArialMT-30\"/>\n       <use xlink:href=\"#ArialMT-2e\" x=\"55.615234\"/>\n       <use xlink:href=\"#ArialMT-30\" x=\"83.398438\"/>\n       <use xlink:href=\"#ArialMT-30\" x=\"139.013672\"/>\n      </g>\n     </g>\n    </g>\n    <g id=\"ytick_2\">\n     <g id=\"line2d_11\">\n      <path d=\"M 33.660938 189.96567 \nL 368.460938 189.96567 \n\" clip-path=\"url(#p25bf3b8ead)\" style=\"fill: none; stroke: #cccccc; stroke-width: 0.8; stroke-linecap: round\"/>\n     </g>\n     <g id=\"text_11\">\n      <!-- 0.05 -->\n      <g style=\"fill: #262626\" transform=\"translate(7.2 193.544576)scale(0.1 -0.1)\">\n       <use xlink:href=\"#ArialMT-30\"/>\n       <use xlink:href=\"#ArialMT-2e\" x=\"55.615234\"/>\n       <use xlink:href=\"#ArialMT-30\" x=\"83.398438\"/>\n       <use xlink:href=\"#ArialMT-35\" x=\"139.013672\"/>\n      </g>\n     </g>\n    </g>\n    <g id=\"ytick_3\">\n     <g id=\"line2d_12\">\n      <path d=\"M 33.660938 165.174976 \nL 368.460938 165.174976 \n\" clip-path=\"url(#p25bf3b8ead)\" style=\"fill: none; stroke: #cccccc; stroke-width: 0.8; stroke-linecap: round\"/>\n     </g>\n     <g id=\"text_12\">\n      <!-- 0.10 -->\n      <g style=\"fill: #262626\" transform=\"translate(7.2 168.753883)scale(0.1 -0.1)\">\n       <defs>\n        <path id=\"ArialMT-31\" d=\"M 2384 0 \nL 1822 0 \nL 1822 3584 \nQ 1619 3391 1289 3197 \nQ 959 3003 697 2906 \nL 697 3450 \nQ 1169 3672 1522 3987 \nQ 1875 4303 2022 4600 \nL 2384 4600 \nL 2384 0 \nz\n\" transform=\"scale(0.015625)\"/>\n       </defs>\n       <use xlink:href=\"#ArialMT-30\"/>\n       <use xlink:href=\"#ArialMT-2e\" x=\"55.615234\"/>\n       <use xlink:href=\"#ArialMT-31\" x=\"83.398438\"/>\n       <use xlink:href=\"#ArialMT-30\" x=\"139.013672\"/>\n      </g>\n     </g>\n    </g>\n    <g id=\"ytick_4\">\n     <g id=\"line2d_13\">\n      <path d=\"M 33.660938 140.384283 \nL 368.460938 140.384283 \n\" clip-path=\"url(#p25bf3b8ead)\" style=\"fill: none; stroke: #cccccc; stroke-width: 0.8; stroke-linecap: round\"/>\n     </g>\n     <g id=\"text_13\">\n      <!-- 0.15 -->\n      <g style=\"fill: #262626\" transform=\"translate(7.2 143.963189)scale(0.1 -0.1)\">\n       <use xlink:href=\"#ArialMT-30\"/>\n       <use xlink:href=\"#ArialMT-2e\" x=\"55.615234\"/>\n       <use xlink:href=\"#ArialMT-31\" x=\"83.398438\"/>\n       <use xlink:href=\"#ArialMT-35\" x=\"139.013672\"/>\n      </g>\n     </g>\n    </g>\n    <g id=\"ytick_5\">\n     <g id=\"line2d_14\">\n      <path d=\"M 33.660938 115.593589 \nL 368.460938 115.593589 \n\" clip-path=\"url(#p25bf3b8ead)\" style=\"fill: none; stroke: #cccccc; stroke-width: 0.8; stroke-linecap: round\"/>\n     </g>\n     <g id=\"text_14\">\n      <!-- 0.20 -->\n      <g style=\"fill: #262626\" transform=\"translate(7.2 119.172495)scale(0.1 -0.1)\">\n       <use xlink:href=\"#ArialMT-30\"/>\n       <use xlink:href=\"#ArialMT-2e\" x=\"55.615234\"/>\n       <use xlink:href=\"#ArialMT-32\" x=\"83.398438\"/>\n       <use xlink:href=\"#ArialMT-30\" x=\"139.013672\"/>\n      </g>\n     </g>\n    </g>\n    <g id=\"ytick_6\">\n     <g id=\"line2d_15\">\n      <path d=\"M 33.660938 90.802895 \nL 368.460938 90.802895 \n\" clip-path=\"url(#p25bf3b8ead)\" style=\"fill: none; stroke: #cccccc; stroke-width: 0.8; stroke-linecap: round\"/>\n     </g>\n     <g id=\"text_15\">\n      <!-- 0.25 -->\n      <g style=\"fill: #262626\" transform=\"translate(7.2 94.381801)scale(0.1 -0.1)\">\n       <use xlink:href=\"#ArialMT-30\"/>\n       <use xlink:href=\"#ArialMT-2e\" x=\"55.615234\"/>\n       <use xlink:href=\"#ArialMT-32\" x=\"83.398438\"/>\n       <use xlink:href=\"#ArialMT-35\" x=\"139.013672\"/>\n      </g>\n     </g>\n    </g>\n    <g id=\"ytick_7\">\n     <g id=\"line2d_16\">\n      <path d=\"M 33.660938 66.012202 \nL 368.460938 66.012202 \n\" clip-path=\"url(#p25bf3b8ead)\" style=\"fill: none; stroke: #cccccc; stroke-width: 0.8; stroke-linecap: round\"/>\n     </g>\n     <g id=\"text_16\">\n      <!-- 0.30 -->\n      <g style=\"fill: #262626\" transform=\"translate(7.2 69.591108)scale(0.1 -0.1)\">\n       <defs>\n        <path id=\"ArialMT-33\" d=\"M 269 1209 \nL 831 1284 \nQ 928 806 1161 595 \nQ 1394 384 1728 384 \nQ 2125 384 2398 659 \nQ 2672 934 2672 1341 \nQ 2672 1728 2419 1979 \nQ 2166 2231 1775 2231 \nQ 1616 2231 1378 2169 \nL 1441 2663 \nQ 1497 2656 1531 2656 \nQ 1891 2656 2178 2843 \nQ 2466 3031 2466 3422 \nQ 2466 3731 2256 3934 \nQ 2047 4138 1716 4138 \nQ 1388 4138 1169 3931 \nQ 950 3725 888 3313 \nL 325 3413 \nQ 428 3978 793 4289 \nQ 1159 4600 1703 4600 \nQ 2078 4600 2393 4439 \nQ 2709 4278 2876 4000 \nQ 3044 3722 3044 3409 \nQ 3044 3113 2884 2869 \nQ 2725 2625 2413 2481 \nQ 2819 2388 3044 2092 \nQ 3269 1797 3269 1353 \nQ 3269 753 2831 336 \nQ 2394 -81 1725 -81 \nQ 1122 -81 723 278 \nQ 325 638 269 1209 \nz\n\" transform=\"scale(0.015625)\"/>\n       </defs>\n       <use xlink:href=\"#ArialMT-30\"/>\n       <use xlink:href=\"#ArialMT-2e\" x=\"55.615234\"/>\n       <use xlink:href=\"#ArialMT-33\" x=\"83.398438\"/>\n       <use xlink:href=\"#ArialMT-30\" x=\"139.013672\"/>\n      </g>\n     </g>\n    </g>\n    <g id=\"ytick_8\">\n     <g id=\"line2d_17\">\n      <path d=\"M 33.660938 41.221508 \nL 368.460938 41.221508 \n\" clip-path=\"url(#p25bf3b8ead)\" style=\"fill: none; stroke: #cccccc; stroke-width: 0.8; stroke-linecap: round\"/>\n     </g>\n     <g id=\"text_17\">\n      <!-- 0.35 -->\n      <g style=\"fill: #262626\" transform=\"translate(7.2 44.800414)scale(0.1 -0.1)\">\n       <use xlink:href=\"#ArialMT-30\"/>\n       <use xlink:href=\"#ArialMT-2e\" x=\"55.615234\"/>\n       <use xlink:href=\"#ArialMT-33\" x=\"83.398438\"/>\n       <use xlink:href=\"#ArialMT-35\" x=\"139.013672\"/>\n      </g>\n     </g>\n    </g>\n    <g id=\"ytick_9\">\n     <g id=\"line2d_18\">\n      <path d=\"M 33.660938 16.430814 \nL 368.460938 16.430814 \n\" clip-path=\"url(#p25bf3b8ead)\" style=\"fill: none; stroke: #cccccc; stroke-width: 0.8; stroke-linecap: round\"/>\n     </g>\n     <g id=\"text_18\">\n      <!-- 0.40 -->\n      <g style=\"fill: #262626\" transform=\"translate(7.2 20.00972)scale(0.1 -0.1)\">\n       <use xlink:href=\"#ArialMT-30\"/>\n       <use xlink:href=\"#ArialMT-2e\" x=\"55.615234\"/>\n       <use xlink:href=\"#ArialMT-34\" x=\"83.398438\"/>\n       <use xlink:href=\"#ArialMT-30\" x=\"139.013672\"/>\n      </g>\n     </g>\n    </g>\n   </g>\n   <g id=\"line2d_19\">\n    <path d=\"M -1 214.756364 \nL 51.909046 214.661606 \nL 56.885802 214.466465 \nL 60.20364 214.174693 \nL 63.521478 213.634222 \nL 65.180397 213.220562 \nL 66.839316 212.674953 \nL 68.498235 211.963079 \nL 70.157154 211.044366 \nL 71.816073 209.871695 \nL 73.474992 208.391377 \nL 75.13391 206.543496 \nL 76.792829 204.262701 \nL 78.451748 201.479535 \nL 80.110667 198.12237 \nL 81.769586 194.119976 \nL 83.428505 189.40474 \nL 85.087424 183.916472 \nL 86.746343 177.606703 \nL 88.405262 170.443297 \nL 90.064181 162.415157 \nL 91.7231 153.536748 \nL 93.382019 143.852088 \nL 96.699856 122.405506 \nL 101.676613 87.228273 \nL 104.994451 64.191406 \nL 106.65337 53.548819 \nL 108.312289 43.840736 \nL 109.971208 35.318893 \nL 111.630127 28.213148 \nL 113.289046 22.721213 \nL 114.947965 18.999519 \nL 116.606883 17.155819 \nL 118.265802 17.244007 \nL 119.924721 19.261496 \nL 121.58364 23.14935 \nL 123.242559 28.795139 \nL 124.901478 36.038342 \nL 126.560397 44.677928 \nL 128.219316 54.481613 \nL 131.537154 76.558386 \nL 138.172829 123.430394 \nL 141.490667 144.764055 \nL 143.149586 154.37808 \nL 144.808505 163.180542 \nL 146.467424 171.130252 \nL 148.126343 178.215247 \nL 149.785262 184.448727 \nL 151.444181 189.864507 \nL 153.1031 194.512311 \nL 154.762019 198.453174 \nL 156.420938 201.755187 \nL 158.079856 204.489739 \nL 159.738775 206.728358 \nL 161.397694 208.540198 \nL 163.056613 209.990161 \nL 164.715532 211.137624 \nL 166.374451 212.035686 \nL 168.03337 212.730865 \nL 169.692289 213.263151 \nL 173.010127 213.968401 \nL 176.327965 214.356575 \nL 181.304721 214.62214 \nL 189.599316 214.738477 \nL 222.777694 214.756363 \nL 386.391406 214.756364 \nL 386.391406 214.756364 \n\" clip-path=\"url(#p25bf3b8ead)\" style=\"fill: none; stroke: #1f77b4; stroke-width: 1.5; stroke-linecap: round\"/>\n   </g>\n   <g id=\"line2d_20\">\n    <path d=\"M -1 214.756364 \nL 219.459856 214.658213 \nL 224.436613 214.456887 \nL 227.754451 214.156547 \nL 231.072289 213.60128 \nL 232.731208 213.176886 \nL 234.390127 212.617672 \nL 236.049046 211.888767 \nL 237.707965 210.949014 \nL 239.366883 209.750691 \nL 241.025802 208.239523 \nL 242.684721 206.355059 \nL 244.34364 204.031512 \nL 246.002559 201.199139 \nL 247.661478 197.786231 \nL 249.320397 193.721744 \nL 250.979316 188.938576 \nL 252.638235 183.377418 \nL 254.297154 176.991091 \nL 255.956073 169.749177 \nL 257.614992 161.642726 \nL 259.27391 152.68873 \nL 260.932829 142.934068 \nL 264.250667 121.376695 \nL 274.204181 52.623755 \nL 275.8631 43.013362 \nL 277.522019 34.611169 \nL 279.180938 27.644524 \nL 280.839856 22.30774 \nL 282.498775 18.753099 \nL 284.157694 17.083636 \nL 285.816613 17.348178 \nL 287.475532 19.538968 \nL 289.134451 23.592049 \nL 290.79337 29.390359 \nL 292.452289 36.769353 \nL 294.111208 45.524756 \nL 295.770127 55.421942 \nL 299.087965 77.614287 \nL 305.72364 124.451238 \nL 309.041478 145.6699 \nL 310.700397 155.212683 \nL 312.359316 163.938858 \nL 314.018235 171.810043 \nL 315.677154 178.816739 \nL 317.336073 184.974213 \nL 318.994992 190.31792 \nL 320.65391 194.898799 \nL 322.312829 198.778696 \nL 323.971748 202.026149 \nL 325.630667 204.71268 \nL 327.289586 206.909696 \nL 328.948505 208.686031 \nL 330.607424 210.106132 \nL 332.266343 211.228825 \nL 333.925262 212.10662 \nL 335.584181 212.785435 \nL 337.2431 213.304677 \nL 340.560938 213.99168 \nL 343.878775 214.369079 \nL 348.855532 214.626686 \nL 357.150127 214.73916 \nL 386.391406 214.756362 \nL 386.391406 214.756362 \n\" clip-path=\"url(#p25bf3b8ead)\" style=\"fill: none; stroke: #ff7f0e; stroke-width: 1.5; stroke-linecap: round\"/>\n   </g>\n   <g id=\"patch_3\">\n    <path d=\"M 33.660938 224.64 \nL 33.660938 7.2 \n\" style=\"fill: none; stroke: #cccccc; stroke-width: 0.8; stroke-linejoin: miter; stroke-linecap: square\"/>\n   </g>\n   <g id=\"patch_4\">\n    <path d=\"M 368.460938 224.64 \nL 368.460938 7.2 \n\" style=\"fill: none; stroke: #cccccc; stroke-width: 0.8; stroke-linejoin: miter; stroke-linecap: square\"/>\n   </g>\n   <g id=\"patch_5\">\n    <path d=\"M 33.660938 224.64 \nL 368.460938 224.64 \n\" style=\"fill: none; stroke: #cccccc; stroke-width: 0.8; stroke-linejoin: miter; stroke-linecap: square\"/>\n   </g>\n   <g id=\"patch_6\">\n    <path d=\"M 33.660938 7.2 \nL 368.460938 7.2 \n\" style=\"fill: none; stroke: #cccccc; stroke-width: 0.8; stroke-linejoin: miter; stroke-linecap: square\"/>\n   </g>\n  </g>\n </g>\n <defs>\n  <clipPath id=\"p25bf3b8ead\">\n   <rect x=\"33.660938\" y=\"7.2\" width=\"334.8\" height=\"217.44\"/>\n  </clipPath>\n </defs>\n</svg>\n",
      "text/plain": [
       "<Figure size 432x288 with 1 Axes>"
      ]
     },
     "metadata": {},
     "output_type": "display_data"
    }
   ],
   "source": [
    "mu = 50\n",
    "variance = 1\n",
    "sigma = math.sqrt(variance)\n",
    "x = np.linspace(1, 100, 1000)\n",
    "plt.plot(x, stats.norm.pdf(x, mu, sigma))\n",
    "\n",
    "mu = 60\n",
    "variance = 1\n",
    "sigma = math.sqrt(variance)\n",
    "x = np.linspace(1, 100, 1000)\n",
    "plt.plot(x, stats.norm.pdf(x, mu, sigma))\n",
    "\n",
    "plt.xlim(45, 65)\n",
    "plt.show()"
   ]
  },
  {
   "cell_type": "markdown",
   "metadata": {},
   "source": [
    "The two normal curves are completely seperated now."
   ]
  },
  {
   "cell_type": "code",
   "execution_count": 20,
   "metadata": {},
   "outputs": [
    {
     "name": "stdout",
     "output_type": "stream",
     "text": [
      "526.0\n",
      "574.0\n"
     ]
    }
   ],
   "source": [
    "print(binom.ppf(0.95, 1000, 0.5))\n",
    "print(binom.ppf(0.05, 1000, 0.6))"
   ]
  },
  {
   "cell_type": "markdown",
   "metadata": {},
   "source": [
    "---\n",
    "\n",
    "### Exercise\n",
    "\n",
    "What are our errors now?\n",
    "\n",
    "---"
   ]
  },
  {
   "cell_type": "code",
   "execution_count": 21,
   "metadata": {},
   "outputs": [
    {
     "name": "stdout",
     "output_type": "stream",
     "text": [
      "0.0006958707972110068\n",
      "0.0007412028990060172\n"
     ]
    }
   ],
   "source": [
    "print(1 - binom.cdf(550, 1000, 0.5))\n",
    "print(binom.cdf(550, 1000, 0.6))"
   ]
  },
  {
   "cell_type": "markdown",
   "metadata": {},
   "source": [
    "**With a cutoff of 550, both our errors come down to under 0.1%.**"
   ]
  },
  {
   "cell_type": "markdown",
   "metadata": {},
   "source": [
    "---\n",
    "### Machine Learning Foundation (C) 2020 IBM Corporation"
   ]
  }
 ],
 "metadata": {
  "kernelspec": {
   "display_name": "Python 3.9.12 ('base')",
   "language": "python",
   "name": "python3"
  },
  "language_info": {
   "codemirror_mode": {
    "name": "ipython",
    "version": 3
   },
   "file_extension": ".py",
   "mimetype": "text/x-python",
   "name": "python",
   "nbconvert_exporter": "python",
   "pygments_lexer": "ipython3",
   "version": "3.9.12"
  },
  "vscode": {
   "interpreter": {
    "hash": "3cfd106f785ae1e288da74ae733f9b47f8a2699db986927140be0bc196406f4c"
   }
  }
 },
 "nbformat": 4,
 "nbformat_minor": 4
}
